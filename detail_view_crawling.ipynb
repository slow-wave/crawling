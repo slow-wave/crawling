{
 "cells": [
  {
   "cell_type": "markdown",
   "metadata": {},
   "source": [
    "## 상세페이지 크롤링"
   ]
  },
  {
   "cell_type": "code",
   "execution_count": 21,
   "metadata": {},
   "outputs": [],
   "source": [
    "import requests\n",
    "from bs4 import BeautifulSoup\n",
    "from datetime import date, timedelta\n",
    "import pandas as pd\n",
    "import time\n",
    "import re"
   ]
  },
  {
   "cell_type": "code",
   "execution_count": 22,
   "metadata": {},
   "outputs": [
    {
     "data": {
      "text/html": [
       "<div>\n",
       "<style scoped>\n",
       "    .dataframe tbody tr th:only-of-type {\n",
       "        vertical-align: middle;\n",
       "    }\n",
       "\n",
       "    .dataframe tbody tr th {\n",
       "        vertical-align: top;\n",
       "    }\n",
       "\n",
       "    .dataframe thead th {\n",
       "        text-align: right;\n",
       "    }\n",
       "</style>\n",
       "<table border=\"1\" class=\"dataframe\">\n",
       "  <thead>\n",
       "    <tr style=\"text-align: right;\">\n",
       "      <th></th>\n",
       "      <th>item_id</th>\n",
       "      <th>img_url</th>\n",
       "      <th>sub_category</th>\n",
       "      <th>category</th>\n",
       "      <th>page_num</th>\n",
       "      <th>date</th>\n",
       "    </tr>\n",
       "  </thead>\n",
       "  <tbody>\n",
       "    <tr>\n",
       "      <th>0</th>\n",
       "      <td>1854456</td>\n",
       "      <td>https://image.msscdn.net/images/goods_img/2021...</td>\n",
       "      <td>020006</td>\n",
       "      <td>020</td>\n",
       "      <td>0</td>\n",
       "      <td>2021-03-24</td>\n",
       "    </tr>\n",
       "    <tr>\n",
       "      <th>1</th>\n",
       "      <td>1854413</td>\n",
       "      <td>https://image.msscdn.net/images/goods_img/2021...</td>\n",
       "      <td>020006</td>\n",
       "      <td>020</td>\n",
       "      <td>0</td>\n",
       "      <td>2021-03-24</td>\n",
       "    </tr>\n",
       "    <tr>\n",
       "      <th>2</th>\n",
       "      <td>1854457</td>\n",
       "      <td>https://image.msscdn.net/images/goods_img/2021...</td>\n",
       "      <td>020006</td>\n",
       "      <td>020</td>\n",
       "      <td>0</td>\n",
       "      <td>2021-03-24</td>\n",
       "    </tr>\n",
       "    <tr>\n",
       "      <th>3</th>\n",
       "      <td>1854414</td>\n",
       "      <td>https://image.msscdn.net/images/goods_img/2021...</td>\n",
       "      <td>020006</td>\n",
       "      <td>020</td>\n",
       "      <td>0</td>\n",
       "      <td>2021-03-24</td>\n",
       "    </tr>\n",
       "    <tr>\n",
       "      <th>4</th>\n",
       "      <td>1854458</td>\n",
       "      <td>https://image.msscdn.net/images/goods_img/2021...</td>\n",
       "      <td>020006</td>\n",
       "      <td>020</td>\n",
       "      <td>0</td>\n",
       "      <td>2021-03-24</td>\n",
       "    </tr>\n",
       "  </tbody>\n",
       "</table>\n",
       "</div>"
      ],
      "text/plain": [
       "   item_id                                            img_url sub_category  \\\n",
       "0  1854456  https://image.msscdn.net/images/goods_img/2021...       020006   \n",
       "1  1854413  https://image.msscdn.net/images/goods_img/2021...       020006   \n",
       "2  1854457  https://image.msscdn.net/images/goods_img/2021...       020006   \n",
       "3  1854414  https://image.msscdn.net/images/goods_img/2021...       020006   \n",
       "4  1854458  https://image.msscdn.net/images/goods_img/2021...       020006   \n",
       "\n",
       "  category  page_num        date  \n",
       "0      020         0  2021-03-24  \n",
       "1      020         0  2021-03-24  \n",
       "2      020         0  2021-03-24  \n",
       "3      020         0  2021-03-24  \n",
       "4      020         0  2021-03-24  "
      ]
     },
     "execution_count": 22,
     "metadata": {},
     "output_type": "execute_result"
    }
   ],
   "source": [
    "#category, sub_category 맨 앞 0을 인식 못해 str으로 바꿔줌.\n",
    "data = pd.read_csv('mini_onepiece(020006)_210324.csv',index_col = 0,converters={'category':str,'sub_category':str})\n",
    "\n",
    "data.head()"
   ]
  },
  {
   "cell_type": "code",
   "execution_count": 5,
   "metadata": {},
   "outputs": [
    {
     "data": {
      "text/plain": [
       "array([1854456, 1854413, 1854457, ..., 1559214, 1792848, 1801848])"
      ]
     },
     "execution_count": 5,
     "metadata": {},
     "output_type": "execute_result"
    }
   ],
   "source": [
    "data['item_id'].unique()"
   ]
  },
  {
   "cell_type": "code",
   "execution_count": 6,
   "metadata": {},
   "outputs": [],
   "source": [
    "url = 'https://store.musinsa.com/app/goods/' + '1854456'\n",
    "\n",
    "req = requests.get(url)\n",
    "raw = req.text\n",
    "\n",
    "html = BeautifulSoup(raw, 'html.parser')"
   ]
  },
  {
   "cell_type": "code",
   "execution_count": 81,
   "metadata": {},
   "outputs": [],
   "source": [
    "title = html.select('span.product_title')[0].get_text() #'\\n에어리핏 슬릿 원피스_퍼플헤더_(AKPOP-15LVD)\\n'\n",
    "season = html.select('#product_order_info > div.explan_product.product_info_section > ul > li:nth-child(2) > p.product_article_contents > strong')[0].get_text()\n",
    "gender = html.select('span.txt_gender')[0].get_text() #'\\n여\\n'\n",
    "brand_product_num=html.select('p.product_article_contents')[0].get_text() #brand/품번\n",
    "tag = html.select('a.listItem') #상품 특성 키워드로#트레이닝복\n",
    "price =html.select('span.product_article_price')[0].get_text()#\\n35,000원\\n \n",
    "#mem_price = html.select('div.member_price')\n",
    "likes = html.select('a.goods_like_1854456')[0].get_text() #'좋아요0'"
   ]
  },
  {
   "cell_type": "code",
   "execution_count": null,
   "metadata": {},
   "outputs": [],
   "source": [
    "import re\n",
    "\n",
    "string = \"Hey! What's up?\"\n",
    "string = re.sub(\"\\!|\\'|\\?\",\"\",string)\n",
    "print(string) "
   ]
  },
  {
   "cell_type": "code",
   "execution_count": 84,
   "metadata": {},
   "outputs": [
    {
     "data": {
      "text/plain": [
       "'2021S/S'"
      ]
     },
     "execution_count": 84,
     "metadata": {},
     "output_type": "execute_result"
    }
   ],
   "source": [
    "re.sub('\\ |\\\\n',\"\",season)"
   ]
  },
  {
   "cell_type": "code",
   "execution_count": 107,
   "metadata": {},
   "outputs": [],
   "source": [
    "title = re.sub('\\\\n',\"\",title)\n",
    "season = re.sub('\\ |\\\\n',\"\",season)\n",
    "gender = re.sub('\\\\n',\"\",gender)\n",
    "brand = brand_product_num.split()[0]\n",
    "product_num = brand_product_num.split()[2]\n",
    "tag_l = []\n",
    "for i in tag:\n",
    "    tag_l.append(re.sub('\\#','',i.get_text()))\n",
    "tag = tag_l\n",
    "price = re.sub('\\ |\\\\n|\\,|\\원','',price)\n",
    "likes = likes[3:]"
   ]
  },
  {
   "cell_type": "code",
   "execution_count": 37,
   "metadata": {},
   "outputs": [],
   "source": [
    "title_c=[]\n",
    "season_c=[]\n",
    "gender_c=[]\n",
    "brand_c=[]\n",
    "product_num_c = []\n",
    "tag_c = []\n",
    "price_c = []\n",
    "likes_c =[]"
   ]
  },
  {
   "cell_type": "code",
   "execution_count": 36,
   "metadata": {},
   "outputs": [
    {
     "data": {
      "text/plain": [
       "1"
      ]
     },
     "execution_count": 36,
     "metadata": {},
     "output_type": "execute_result"
    }
   ],
   "source": [
    "goods_like_1854456"
   ]
  },
  {
   "cell_type": "code",
   "execution_count": 39,
   "metadata": {},
   "outputs": [
    {
     "ename": "IndexError",
     "evalue": "list index out of range",
     "output_type": "error",
     "traceback": [
      "\u001b[0;31m---------------------------------------------------------------------------\u001b[0m",
      "\u001b[0;31mIndexError\u001b[0m                                Traceback (most recent call last)",
      "\u001b[0;32m<ipython-input-39-fe23ab4a5eda>\u001b[0m in \u001b[0;36m<module>\u001b[0;34m\u001b[0m\n\u001b[1;32m     10\u001b[0m \u001b[0;34m\u001b[0m\u001b[0m\n\u001b[1;32m     11\u001b[0m     \u001b[0mtitle\u001b[0m \u001b[0;34m=\u001b[0m \u001b[0mhtml\u001b[0m\u001b[0;34m.\u001b[0m\u001b[0mselect\u001b[0m\u001b[0;34m(\u001b[0m\u001b[0;34m'span.product_title'\u001b[0m\u001b[0;34m)\u001b[0m\u001b[0;34m[\u001b[0m\u001b[0;36m0\u001b[0m\u001b[0;34m]\u001b[0m\u001b[0;34m.\u001b[0m\u001b[0mget_text\u001b[0m\u001b[0;34m(\u001b[0m\u001b[0;34m)\u001b[0m \u001b[0;31m#'\\n에어리핏 슬릿 원피스_퍼플헤더_(AKPOP-15LVD)\\n'\u001b[0m\u001b[0;34m\u001b[0m\u001b[0;34m\u001b[0m\u001b[0m\n\u001b[0;32m---> 12\u001b[0;31m     \u001b[0mseason\u001b[0m \u001b[0;34m=\u001b[0m \u001b[0mhtml\u001b[0m\u001b[0;34m.\u001b[0m\u001b[0mselect\u001b[0m\u001b[0;34m(\u001b[0m\u001b[0;34m'#product_order_info > div.explan_product.product_info_section > ul > li:nth-child(2) > p.product_article_contents > strong'\u001b[0m\u001b[0;34m)\u001b[0m\u001b[0;34m[\u001b[0m\u001b[0;36m0\u001b[0m\u001b[0;34m]\u001b[0m\u001b[0;34m.\u001b[0m\u001b[0mget_text\u001b[0m\u001b[0;34m(\u001b[0m\u001b[0;34m)\u001b[0m\u001b[0;34m\u001b[0m\u001b[0;34m\u001b[0m\u001b[0m\n\u001b[0m\u001b[1;32m     13\u001b[0m     \u001b[0mgender\u001b[0m \u001b[0;34m=\u001b[0m \u001b[0mhtml\u001b[0m\u001b[0;34m.\u001b[0m\u001b[0mselect\u001b[0m\u001b[0;34m(\u001b[0m\u001b[0;34m'span.txt_gender'\u001b[0m\u001b[0;34m)\u001b[0m\u001b[0;34m[\u001b[0m\u001b[0;36m0\u001b[0m\u001b[0;34m]\u001b[0m\u001b[0;34m.\u001b[0m\u001b[0mget_text\u001b[0m\u001b[0;34m(\u001b[0m\u001b[0;34m)\u001b[0m \u001b[0;31m#'\\n여\\n'\u001b[0m\u001b[0;34m\u001b[0m\u001b[0;34m\u001b[0m\u001b[0m\n\u001b[1;32m     14\u001b[0m     \u001b[0mbrand_product_num\u001b[0m\u001b[0;34m=\u001b[0m\u001b[0mhtml\u001b[0m\u001b[0;34m.\u001b[0m\u001b[0mselect\u001b[0m\u001b[0;34m(\u001b[0m\u001b[0;34m'p.product_article_contents'\u001b[0m\u001b[0;34m)\u001b[0m\u001b[0;34m[\u001b[0m\u001b[0;36m0\u001b[0m\u001b[0;34m]\u001b[0m\u001b[0;34m.\u001b[0m\u001b[0mget_text\u001b[0m\u001b[0;34m(\u001b[0m\u001b[0;34m)\u001b[0m \u001b[0;31m#brand/품번\u001b[0m\u001b[0;34m\u001b[0m\u001b[0;34m\u001b[0m\u001b[0m\n",
      "\u001b[0;31mIndexError\u001b[0m: list index out of range"
     ]
    }
   ],
   "source": [
    "start = time.time()  # 시작 시간 저장\n",
    "\n",
    "for i in range(len(data)):\n",
    "    item_id = data['item_id'][i]\n",
    "    url = 'https://store.musinsa.com/app/goods/' + str(item_id)\n",
    "    \n",
    "    req = requests.get(url)\n",
    "    raw = req.text\n",
    "    html = BeautifulSoup(raw, 'html.parser')\n",
    "    \n",
    "    title = html.select('span.product_title')[0].get_text() #'\\n에어리핏 슬릿 원피스_퍼플헤더_(AKPOP-15LVD)\\n'\n",
    "    season = html.select('#product_order_info > div.explan_product.product_info_section > ul > li:nth-child(2) > p.product_article_contents > strong')[0].get_text()\n",
    "    gender = html.select('span.txt_gender')[0].get_text() #'\\n여\\n'\n",
    "    brand_product_num=html.select('p.product_article_contents')[0].get_text() #brand/품번\n",
    "    tag = html.select('a.listItem') #상품 특성 키워드로#트레이닝복 #운동복 \n",
    "    price =html.select('span.product_article_price')[0].get_text()#\\n35,000원\\n \n",
    "    #mem_price = html.select('div.member_price')\n",
    "    likes = html.select('a.goods_like_'+str(item_id))[0].get_text() #'좋아요0'\n",
    "\n",
    "    title_c.append(re.sub('\\\\n',\"\",title))\n",
    "    season_c.append(re.sub('\\ |\\\\n',\"\",season))\n",
    "    gender_c.append(re.sub('\\\\n',\"\",gender))\n",
    "    brand_c.append(brand_product_num.split()[0])\n",
    "    product_num_c.append(brand_product_num.split()[2])\n",
    "    tag_l = []\n",
    "    for i in tag:\n",
    "        tag_l.append(re.sub('\\#','',i.get_text()))\n",
    "    tag_c.append(tag_l)\n",
    "    price_c.append(re.sub('\\ |\\\\n|\\,|\\원','',price))\n",
    "    likes_c.append(likes[3:])\n",
    "print(\"time :\", time.time() - start)  # 현재시각 - 시작시간 = 실행 시간"
   ]
  },
  {
   "cell_type": "code",
   "execution_count": 41,
   "metadata": {},
   "outputs": [
    {
     "name": "stdout",
     "output_type": "stream",
     "text": [
      "301 301 301 301 301 301 301 301\n"
     ]
    }
   ],
   "source": [
    "#like 이전꺼 +1 더 되어있을 수 있음.\n",
    "print(len(title_c),\n",
    "len(season_c),\n",
    "len(gender_c),\n",
    "len(brand_c),\n",
    "len(product_num_c),\n",
    "len(tag_c),\n",
    "len(price_c),\n",
    "len(likes_c))"
   ]
  },
  {
   "cell_type": "code",
   "execution_count": 45,
   "metadata": {},
   "outputs": [],
   "source": [
    "df = pd.DataFrame()\n",
    "df['item_id'] = data['item_id'][:301]\n",
    "df['title'] = title_c\n",
    "df['season'] = season_c\n",
    "df['gender'] = gender_c\n",
    "df['brand'] = brand_c\n",
    "df['product'] = product_num_c\n",
    "df['tag']= tag_c\n",
    "df['price'] =price_c\n",
    "df['likes'] = likes_c\n",
    "df['date'] = date.today().isoformat() #'yyyy-mm-dd'"
   ]
  },
  {
   "cell_type": "code",
   "execution_count": 49,
   "metadata": {
    "scrolled": true
   },
   "outputs": [
    {
     "data": {
      "text/html": [
       "<div>\n",
       "<style scoped>\n",
       "    .dataframe tbody tr th:only-of-type {\n",
       "        vertical-align: middle;\n",
       "    }\n",
       "\n",
       "    .dataframe tbody tr th {\n",
       "        vertical-align: top;\n",
       "    }\n",
       "\n",
       "    .dataframe thead th {\n",
       "        text-align: right;\n",
       "    }\n",
       "</style>\n",
       "<table border=\"1\" class=\"dataframe\">\n",
       "  <thead>\n",
       "    <tr style=\"text-align: right;\">\n",
       "      <th></th>\n",
       "      <th>item_id</th>\n",
       "      <th>title</th>\n",
       "      <th>season</th>\n",
       "      <th>gender</th>\n",
       "      <th>brand</th>\n",
       "      <th>product</th>\n",
       "      <th>tag</th>\n",
       "      <th>price</th>\n",
       "      <th>likes</th>\n",
       "      <th>date</th>\n",
       "    </tr>\n",
       "  </thead>\n",
       "  <tbody>\n",
       "    <tr>\n",
       "      <th>0</th>\n",
       "      <td>1854456</td>\n",
       "      <td>에어리핏 슬릿 원피스_퍼플헤더_(AKPOP-15LVD)</td>\n",
       "      <td>2021S/S</td>\n",
       "      <td>여</td>\n",
       "      <td>ANDAR</td>\n",
       "      <td>AKPOP-15LVD</td>\n",
       "      <td>[트레이닝복, 운동복, 요가복, 애슬레저룩, 애슬레저, 필라테스복, 운동하의]</td>\n",
       "      <td>35000</td>\n",
       "      <td>0</td>\n",
       "      <td>2021-03-24</td>\n",
       "    </tr>\n",
       "    <tr>\n",
       "      <th>1</th>\n",
       "      <td>1854413</td>\n",
       "      <td>에어리핏 슬릿 원피스_오프화이트_(AKPOP-15WHT)</td>\n",
       "      <td>2021S/S</td>\n",
       "      <td>여</td>\n",
       "      <td>ANDAR</td>\n",
       "      <td>AKPOP-15WHT</td>\n",
       "      <td>[트레이닝복, 운동복, 요가복, 애슬레저룩, 애슬레저, 필라테스복, 운동하의]</td>\n",
       "      <td>35000</td>\n",
       "      <td>0</td>\n",
       "      <td>2021-03-24</td>\n",
       "    </tr>\n",
       "    <tr>\n",
       "      <th>2</th>\n",
       "      <td>1854457</td>\n",
       "      <td>에어리핏 슬릿 원피스_블룸핑크_(AKPOP-15LPK)</td>\n",
       "      <td>2021S/S</td>\n",
       "      <td>여</td>\n",
       "      <td>ANDAR</td>\n",
       "      <td>AKPOP-15LPK</td>\n",
       "      <td>[트레이닝복, 운동복, 요가복, 애슬레저룩, 애슬레저, 필라테스복, 운동하의]</td>\n",
       "      <td>35000</td>\n",
       "      <td>0</td>\n",
       "      <td>2021-03-24</td>\n",
       "    </tr>\n",
       "    <tr>\n",
       "      <th>3</th>\n",
       "      <td>1854414</td>\n",
       "      <td>에어리핏 슬릿 원피스_랍스타핑크_(AKPOP-15PNK)</td>\n",
       "      <td>2021S/S</td>\n",
       "      <td>여</td>\n",
       "      <td>ANDAR</td>\n",
       "      <td>AKPOP-15PNK</td>\n",
       "      <td>[트레이닝복, 운동복, 요가복, 애슬레저룩, 애슬레저, 필라테스복, 운동하의]</td>\n",
       "      <td>35000</td>\n",
       "      <td>0</td>\n",
       "      <td>2021-03-24</td>\n",
       "    </tr>\n",
       "    <tr>\n",
       "      <th>4</th>\n",
       "      <td>1854458</td>\n",
       "      <td>에어리핏 슬릿 원피스_오이스터차콜_(AKPOP-15CHA)</td>\n",
       "      <td>2021S/S</td>\n",
       "      <td>여</td>\n",
       "      <td>ANDAR</td>\n",
       "      <td>AKPOP-15CHA</td>\n",
       "      <td>[트레이닝복, 운동복, 요가복, 애슬레저룩, 애슬레저, 필라테스복, 운동하의]</td>\n",
       "      <td>35000</td>\n",
       "      <td>0</td>\n",
       "      <td>2021-03-24</td>\n",
       "    </tr>\n",
       "    <tr>\n",
       "      <th>5</th>\n",
       "      <td>1854415</td>\n",
       "      <td>에어리핏 슬릿 원피스_딥위스_(AKPOP-15NAV)</td>\n",
       "      <td>2021S/S</td>\n",
       "      <td>여</td>\n",
       "      <td>ANDAR</td>\n",
       "      <td>AKPOP-15NAV</td>\n",
       "      <td>[트레이닝복, 운동복, 요가복, 애슬레저룩, 애슬레저, 필라테스복, 운동하의]</td>\n",
       "      <td>35000</td>\n",
       "      <td>0</td>\n",
       "      <td>2021-03-24</td>\n",
       "    </tr>\n",
       "    <tr>\n",
       "      <th>6</th>\n",
       "      <td>1854459</td>\n",
       "      <td>에어리핏 슬릿 원피스_메티오블랙_(AKPOP-15BLK)</td>\n",
       "      <td>2021S/S</td>\n",
       "      <td>여</td>\n",
       "      <td>ANDAR</td>\n",
       "      <td>AKPOP-15BLK</td>\n",
       "      <td>[트레이닝복, 운동복, 요가복, 애슬레저룩, 애슬레저, 필라테스복, 운동하의]</td>\n",
       "      <td>35000</td>\n",
       "      <td>0</td>\n",
       "      <td>2021-03-24</td>\n",
       "    </tr>\n",
       "    <tr>\n",
       "      <th>7</th>\n",
       "      <td>1854439</td>\n",
       "      <td>에어리핏 슬릿 원피스_아니스옐로우_(AKPOP-15LYW)</td>\n",
       "      <td>2021S/S</td>\n",
       "      <td>여</td>\n",
       "      <td>ANDAR</td>\n",
       "      <td>AKPOP-15LYW</td>\n",
       "      <td>[트레이닝복, 운동복, 요가복, 애슬레저룩, 애슬레저, 필라테스복, 운동하의]</td>\n",
       "      <td>35000</td>\n",
       "      <td>0</td>\n",
       "      <td>2021-03-24</td>\n",
       "    </tr>\n",
       "    <tr>\n",
       "      <th>8</th>\n",
       "      <td>1854239</td>\n",
       "      <td>엠마 트위드 체크 드레스_블랙Emma Tweed Check Dress_Black</td>\n",
       "      <td>2021S/S</td>\n",
       "      <td>여</td>\n",
       "      <td>JUDE</td>\n",
       "      <td>/</td>\n",
       "      <td>[여성원피스, 추천원피스, 캐주얼원피스, 여자원피스, 봄원피스, 미니원피스]</td>\n",
       "      <td>170000</td>\n",
       "      <td>0</td>\n",
       "      <td>2021-03-24</td>\n",
       "    </tr>\n",
       "    <tr>\n",
       "      <th>9</th>\n",
       "      <td>1854102</td>\n",
       "      <td>엠마 트위드 체크 드레스_아이보리Emma Tweed Check Dress_Ivory</td>\n",
       "      <td>2021S/S</td>\n",
       "      <td>여</td>\n",
       "      <td>JUDE</td>\n",
       "      <td>/</td>\n",
       "      <td>[캐주얼원피스, 드레스, 봄원피스, 미니원피스, 원피스, 트위드, 트위드원피스]</td>\n",
       "      <td>170000</td>\n",
       "      <td>0</td>\n",
       "      <td>2021-03-24</td>\n",
       "    </tr>\n",
       "  </tbody>\n",
       "</table>\n",
       "</div>"
      ],
      "text/plain": [
       "   item_id                                           title   season gender  \\\n",
       "0  1854456                  에어리핏 슬릿 원피스_퍼플헤더_(AKPOP-15LVD)  2021S/S      여   \n",
       "1  1854413                 에어리핏 슬릿 원피스_오프화이트_(AKPOP-15WHT)  2021S/S      여   \n",
       "2  1854457                  에어리핏 슬릿 원피스_블룸핑크_(AKPOP-15LPK)  2021S/S      여   \n",
       "3  1854414                 에어리핏 슬릿 원피스_랍스타핑크_(AKPOP-15PNK)  2021S/S      여   \n",
       "4  1854458                에어리핏 슬릿 원피스_오이스터차콜_(AKPOP-15CHA)  2021S/S      여   \n",
       "5  1854415                   에어리핏 슬릿 원피스_딥위스_(AKPOP-15NAV)  2021S/S      여   \n",
       "6  1854459                 에어리핏 슬릿 원피스_메티오블랙_(AKPOP-15BLK)  2021S/S      여   \n",
       "7  1854439                에어리핏 슬릿 원피스_아니스옐로우_(AKPOP-15LYW)  2021S/S      여   \n",
       "8  1854239    엠마 트위드 체크 드레스_블랙Emma Tweed Check Dress_Black  2021S/S      여   \n",
       "9  1854102  엠마 트위드 체크 드레스_아이보리Emma Tweed Check Dress_Ivory  2021S/S      여   \n",
       "\n",
       "   brand      product                                           tag   price  \\\n",
       "0  ANDAR  AKPOP-15LVD   [트레이닝복, 운동복, 요가복, 애슬레저룩, 애슬레저, 필라테스복, 운동하의]   35000   \n",
       "1  ANDAR  AKPOP-15WHT   [트레이닝복, 운동복, 요가복, 애슬레저룩, 애슬레저, 필라테스복, 운동하의]   35000   \n",
       "2  ANDAR  AKPOP-15LPK   [트레이닝복, 운동복, 요가복, 애슬레저룩, 애슬레저, 필라테스복, 운동하의]   35000   \n",
       "3  ANDAR  AKPOP-15PNK   [트레이닝복, 운동복, 요가복, 애슬레저룩, 애슬레저, 필라테스복, 운동하의]   35000   \n",
       "4  ANDAR  AKPOP-15CHA   [트레이닝복, 운동복, 요가복, 애슬레저룩, 애슬레저, 필라테스복, 운동하의]   35000   \n",
       "5  ANDAR  AKPOP-15NAV   [트레이닝복, 운동복, 요가복, 애슬레저룩, 애슬레저, 필라테스복, 운동하의]   35000   \n",
       "6  ANDAR  AKPOP-15BLK   [트레이닝복, 운동복, 요가복, 애슬레저룩, 애슬레저, 필라테스복, 운동하의]   35000   \n",
       "7  ANDAR  AKPOP-15LYW   [트레이닝복, 운동복, 요가복, 애슬레저룩, 애슬레저, 필라테스복, 운동하의]   35000   \n",
       "8   JUDE            /    [여성원피스, 추천원피스, 캐주얼원피스, 여자원피스, 봄원피스, 미니원피스]  170000   \n",
       "9   JUDE            /  [캐주얼원피스, 드레스, 봄원피스, 미니원피스, 원피스, 트위드, 트위드원피스]  170000   \n",
       "\n",
       "  likes        date  \n",
       "0     0  2021-03-24  \n",
       "1     0  2021-03-24  \n",
       "2     0  2021-03-24  \n",
       "3     0  2021-03-24  \n",
       "4     0  2021-03-24  \n",
       "5     0  2021-03-24  \n",
       "6     0  2021-03-24  \n",
       "7     0  2021-03-24  \n",
       "8     0  2021-03-24  \n",
       "9     0  2021-03-24  "
      ]
     },
     "execution_count": 49,
     "metadata": {},
     "output_type": "execute_result"
    }
   ],
   "source": [
    "df.head(10)"
   ]
  },
  {
   "cell_type": "code",
   "execution_count": 50,
   "metadata": {},
   "outputs": [],
   "source": [
    "df.to_csv('mini_onepiece_detail(020006)_210324.csv')"
   ]
  },
  {
   "cell_type": "code",
   "execution_count": null,
   "metadata": {},
   "outputs": [],
   "source": []
  }
 ],
 "metadata": {
  "kernelspec": {
   "display_name": "Python 3",
   "language": "python",
   "name": "python3"
  },
  "language_info": {
   "codemirror_mode": {
    "name": "ipython",
    "version": 3
   },
   "file_extension": ".py",
   "mimetype": "text/x-python",
   "name": "python",
   "nbconvert_exporter": "python",
   "pygments_lexer": "ipython3",
   "version": "3.8.3"
  }
 },
 "nbformat": 4,
 "nbformat_minor": 4
}
