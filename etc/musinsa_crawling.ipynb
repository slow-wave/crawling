{
 "cells": [
  {
   "cell_type": "markdown",
   "metadata": {},
   "source": [
    "## category code 정리  \n",
    "원피스   \n",
    "- 미니 원피스 : 020006"
   ]
  },
  {
   "cell_type": "markdown",
   "metadata": {},
   "source": [
    "### column\n",
    "- category\n",
    "- sub_category\n",
    "- item_id\n",
    "- img_url"
   ]
  },
  {
   "cell_type": "code",
   "execution_count": 121,
   "metadata": {},
   "outputs": [],
   "source": [
    "import requests\n",
    "from bs4 import BeautifulSoup\n",
    "from datetime import date, timedelta\n",
    "import pandas as pd"
   ]
  },
  {
   "cell_type": "code",
   "execution_count": 122,
   "metadata": {},
   "outputs": [],
   "source": [
    "#원피스 > 미니 원피스 크롤링\n",
    "sub_category = '020006'\n",
    "page_num = '1'\n",
    "sort = 'pop&sub_sort'\n",
    "url = 'https://search.musinsa.com/category/'+category +'?device=&d_cat_cd=020006&brand=&rate=&page_kind=search&list_kind=small&sort=' +sort+'=&page='+page_num+'&display_cnt=90&sale_goods=&ex_soldout=&color=&price1=&price2=&exclusive_yn=&size=&tags=&sale_campaign_yn=&timesale_yn=&q='\n",
    "\n",
    "req = requests.get(url)\n",
    "raw = req.text\n",
    "\n",
    "html = BeautifulSoup(raw, 'html.parser')\n"
   ]
  },
  {
   "cell_type": "code",
   "execution_count": 123,
   "metadata": {},
   "outputs": [],
   "source": [
    "#item-id, img_url, category, sub_category, page_num\n",
    "item_id_c = []\n",
    "img_url_c = []\n",
    "category_c = '020'\n",
    "sub_category_c = sub_category\n",
    "page_num_c = []"
   ]
  },
  {
   "cell_type": "code",
   "execution_count": 124,
   "metadata": {},
   "outputs": [],
   "source": [
    "total_page_num= html.select('span.totalPagingNum')[0].get_text()#24\n",
    "print(total_page_num)\n",
    "90*24="
   ]
  },
  {
   "cell_type": "code",
   "execution_count": 125,
   "metadata": {},
   "outputs": [],
   "source": [
    "sub_category = '020006'\n",
    "sort = 'pop&sub_sort'"
   ]
  },
  {
   "cell_type": "code",
   "execution_count": 128,
   "metadata": {},
   "outputs": [],
   "source": [
    "for i in range(int(total_page_num)):\n",
    "    page_num = str(i)\n",
    "    url = 'https://search.musinsa.com/category/'+category +'?device=&d_cat_cd=020006&brand=&rate=&page_kind=search&list_kind=small&sort=' +sort+'=&page='+page_num+'&display_cnt=90&sale_goods=&ex_soldout=&color=&price1=&price2=&exclusive_yn=&size=&tags=&sale_campaign_yn=&timesale_yn=&q='\n",
    "    req = requests.get(url)\n",
    "    raw = req.text\n",
    "\n",
    "    html = BeautifulSoup(raw, 'html.parser')\n",
    "    items = html.select('li.li_box')\n",
    "\n",
    "    for item in items:\n",
    "        item_id_c.append(item['data-no'])\n",
    "        img_url_c.append(item.img['data-original'])\n",
    "        page_num_c.append(i)\n",
    "\n"
   ]
  },
  {
   "cell_type": "code",
   "execution_count": null,
   "metadata": {},
   "outputs": [],
   "source": [
    "#html.select('label.is_goods')[0].get_text() #' 상품 수 : 2,104개'\n",
    "#total_page_num= html.select('span.totalPagingNum')[0].get_text()#24\n",
    "#html.select('span.currentPagingNum')[0].get_text()#1\n",
    "#items = html.select('li.li_box') \n",
    "#print(len(items)) #90\n",
    "#items[0]['data-no'] #1854456\n",
    "#items[0].img['data-original']  #'https://image.msscdn.net/images/goods_img/20210319/1854456/1854456_1_125.jpg'"
   ]
  },
  {
   "cell_type": "code",
   "execution_count": 131,
   "metadata": {},
   "outputs": [
    {
     "data": {
      "text/html": [
       "<div>\n",
       "<style scoped>\n",
       "    .dataframe tbody tr th:only-of-type {\n",
       "        vertical-align: middle;\n",
       "    }\n",
       "\n",
       "    .dataframe tbody tr th {\n",
       "        vertical-align: top;\n",
       "    }\n",
       "\n",
       "    .dataframe thead th {\n",
       "        text-align: right;\n",
       "    }\n",
       "</style>\n",
       "<table border=\"1\" class=\"dataframe\">\n",
       "  <thead>\n",
       "    <tr style=\"text-align: right;\">\n",
       "      <th></th>\n",
       "      <th>category</th>\n",
       "      <th>item_id</th>\n",
       "    </tr>\n",
       "  </thead>\n",
       "  <tbody>\n",
       "    <tr>\n",
       "      <th>0</th>\n",
       "      <td>NaN</td>\n",
       "      <td>1854456</td>\n",
       "    </tr>\n",
       "    <tr>\n",
       "      <th>1</th>\n",
       "      <td>NaN</td>\n",
       "      <td>1854456</td>\n",
       "    </tr>\n",
       "    <tr>\n",
       "      <th>2</th>\n",
       "      <td>NaN</td>\n",
       "      <td>1854413</td>\n",
       "    </tr>\n",
       "    <tr>\n",
       "      <th>3</th>\n",
       "      <td>NaN</td>\n",
       "      <td>1854457</td>\n",
       "    </tr>\n",
       "    <tr>\n",
       "      <th>4</th>\n",
       "      <td>NaN</td>\n",
       "      <td>1854414</td>\n",
       "    </tr>\n",
       "  </tbody>\n",
       "</table>\n",
       "</div>"
      ],
      "text/plain": [
       "  category  item_id\n",
       "0      NaN  1854456\n",
       "1      NaN  1854456\n",
       "2      NaN  1854413\n",
       "3      NaN  1854457\n",
       "4      NaN  1854414"
      ]
     },
     "execution_count": 131,
     "metadata": {},
     "output_type": "execute_result"
    }
   ],
   "source": [
    "df.head()"
   ]
  },
  {
   "cell_type": "code",
   "execution_count": 142,
   "metadata": {},
   "outputs": [
    {
     "name": "stdout",
     "output_type": "stream",
     "text": [
      "2160 2160 2160\n"
     ]
    }
   ],
   "source": [
    "print(len(item_id_c), len(img_url_c),len(page_num_c))"
   ]
  },
  {
   "cell_type": "code",
   "execution_count": 151,
   "metadata": {},
   "outputs": [],
   "source": [
    "df = pd.DataFrame()\n",
    "df['item_id'] = item_id_c\n",
    "df['img_url'] = img_url_c\n",
    "df['sub_category'] = '020006'\n",
    "df['category'] = '020'\n",
    "df['page_num']=page_num_c\n",
    "df['date'] = date.today().isoformat() #'yyyy-mm-dd'"
   ]
  },
  {
   "cell_type": "code",
   "execution_count": 152,
   "metadata": {},
   "outputs": [],
   "source": [
    "df.category = df.category.astype('str') #앞자리가 0이면 사라져서 다시 str으로 변환\n",
    "df.sub_category = df.sub_category.astype('str')"
   ]
  },
  {
   "cell_type": "code",
   "execution_count": 153,
   "metadata": {},
   "outputs": [
    {
     "data": {
      "text/html": [
       "<div>\n",
       "<style scoped>\n",
       "    .dataframe tbody tr th:only-of-type {\n",
       "        vertical-align: middle;\n",
       "    }\n",
       "\n",
       "    .dataframe tbody tr th {\n",
       "        vertical-align: top;\n",
       "    }\n",
       "\n",
       "    .dataframe thead th {\n",
       "        text-align: right;\n",
       "    }\n",
       "</style>\n",
       "<table border=\"1\" class=\"dataframe\">\n",
       "  <thead>\n",
       "    <tr style=\"text-align: right;\">\n",
       "      <th></th>\n",
       "      <th>item_id</th>\n",
       "      <th>img_url</th>\n",
       "      <th>sub_category</th>\n",
       "      <th>category</th>\n",
       "      <th>page_num</th>\n",
       "      <th>date</th>\n",
       "    </tr>\n",
       "  </thead>\n",
       "  <tbody>\n",
       "    <tr>\n",
       "      <th>0</th>\n",
       "      <td>1854456</td>\n",
       "      <td>https://image.msscdn.net/images/goods_img/2021...</td>\n",
       "      <td>020006</td>\n",
       "      <td>020</td>\n",
       "      <td>0</td>\n",
       "      <td>2021-03-24</td>\n",
       "    </tr>\n",
       "    <tr>\n",
       "      <th>1</th>\n",
       "      <td>1854413</td>\n",
       "      <td>https://image.msscdn.net/images/goods_img/2021...</td>\n",
       "      <td>020006</td>\n",
       "      <td>020</td>\n",
       "      <td>0</td>\n",
       "      <td>2021-03-24</td>\n",
       "    </tr>\n",
       "    <tr>\n",
       "      <th>2</th>\n",
       "      <td>1854457</td>\n",
       "      <td>https://image.msscdn.net/images/goods_img/2021...</td>\n",
       "      <td>020006</td>\n",
       "      <td>020</td>\n",
       "      <td>0</td>\n",
       "      <td>2021-03-24</td>\n",
       "    </tr>\n",
       "    <tr>\n",
       "      <th>3</th>\n",
       "      <td>1854414</td>\n",
       "      <td>https://image.msscdn.net/images/goods_img/2021...</td>\n",
       "      <td>020006</td>\n",
       "      <td>020</td>\n",
       "      <td>0</td>\n",
       "      <td>2021-03-24</td>\n",
       "    </tr>\n",
       "    <tr>\n",
       "      <th>4</th>\n",
       "      <td>1854458</td>\n",
       "      <td>https://image.msscdn.net/images/goods_img/2021...</td>\n",
       "      <td>020006</td>\n",
       "      <td>020</td>\n",
       "      <td>0</td>\n",
       "      <td>2021-03-24</td>\n",
       "    </tr>\n",
       "  </tbody>\n",
       "</table>\n",
       "</div>"
      ],
      "text/plain": [
       "   item_id                                            img_url sub_category  \\\n",
       "0  1854456  https://image.msscdn.net/images/goods_img/2021...       020006   \n",
       "1  1854413  https://image.msscdn.net/images/goods_img/2021...       020006   \n",
       "2  1854457  https://image.msscdn.net/images/goods_img/2021...       020006   \n",
       "3  1854414  https://image.msscdn.net/images/goods_img/2021...       020006   \n",
       "4  1854458  https://image.msscdn.net/images/goods_img/2021...       020006   \n",
       "\n",
       "  category  page_num        date  \n",
       "0      020         0  2021-03-24  \n",
       "1      020         0  2021-03-24  \n",
       "2      020         0  2021-03-24  \n",
       "3      020         0  2021-03-24  \n",
       "4      020         0  2021-03-24  "
      ]
     },
     "execution_count": 153,
     "metadata": {},
     "output_type": "execute_result"
    }
   ],
   "source": [
    "df.head()"
   ]
  },
  {
   "cell_type": "code",
   "execution_count": 154,
   "metadata": {},
   "outputs": [],
   "source": [
    "df.to_csv('mini_onepiece(020006)_210324.csv')"
   ]
  },
  {
   "cell_type": "code",
   "execution_count": 155,
   "metadata": {},
   "outputs": [
    {
     "data": {
      "text/plain": [
       "2070"
      ]
     },
     "execution_count": 155,
     "metadata": {},
     "output_type": "execute_result"
    }
   ],
   "source": [
    "len(df['item_id'].unique())"
   ]
  },
  {
   "cell_type": "code",
   "execution_count": null,
   "metadata": {},
   "outputs": [],
   "source": []
  }
 ],
 "metadata": {
  "kernelspec": {
   "display_name": "Python 3",
   "language": "python",
   "name": "python3"
  },
  "language_info": {
   "codemirror_mode": {
    "name": "ipython",
    "version": 3
   },
   "file_extension": ".py",
   "mimetype": "text/x-python",
   "name": "python",
   "nbconvert_exporter": "python",
   "pygments_lexer": "ipython3",
   "version": "3.8.3"
  }
 },
 "nbformat": 4,
 "nbformat_minor": 4
}
