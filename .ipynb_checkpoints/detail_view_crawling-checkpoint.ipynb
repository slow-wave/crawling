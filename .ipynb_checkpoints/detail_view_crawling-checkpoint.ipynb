{
 "cells": [
  {
   "cell_type": "markdown",
   "metadata": {},
   "source": [
    "## 상세페이지 크롤링"
   ]
  },
  {
   "cell_type": "code",
   "execution_count": 9,
   "metadata": {},
   "outputs": [],
   "source": [
    "import requests\n",
    "from bs4 import BeautifulSoup\n",
    "from datetime import date, timedelta\n",
    "import pandas as pd\n",
    "import time\n",
    "import re"
   ]
  },
  {
   "cell_type": "code",
   "execution_count": 4,
   "metadata": {},
   "outputs": [
    {
     "data": {
      "text/html": [
       "<div>\n",
       "<style scoped>\n",
       "    .dataframe tbody tr th:only-of-type {\n",
       "        vertical-align: middle;\n",
       "    }\n",
       "\n",
       "    .dataframe tbody tr th {\n",
       "        vertical-align: top;\n",
       "    }\n",
       "\n",
       "    .dataframe thead th {\n",
       "        text-align: right;\n",
       "    }\n",
       "</style>\n",
       "<table border=\"1\" class=\"dataframe\">\n",
       "  <thead>\n",
       "    <tr style=\"text-align: right;\">\n",
       "      <th></th>\n",
       "      <th>item_id</th>\n",
       "      <th>img_url</th>\n",
       "      <th>sub_category</th>\n",
       "      <th>category</th>\n",
       "      <th>page_num</th>\n",
       "      <th>date</th>\n",
       "    </tr>\n",
       "  </thead>\n",
       "  <tbody>\n",
       "    <tr>\n",
       "      <th>0</th>\n",
       "      <td>1854456</td>\n",
       "      <td>https://image.msscdn.net/images/goods_img/2021...</td>\n",
       "      <td>020006</td>\n",
       "      <td>020</td>\n",
       "      <td>0</td>\n",
       "      <td>2021-03-24</td>\n",
       "    </tr>\n",
       "    <tr>\n",
       "      <th>1</th>\n",
       "      <td>1854413</td>\n",
       "      <td>https://image.msscdn.net/images/goods_img/2021...</td>\n",
       "      <td>020006</td>\n",
       "      <td>020</td>\n",
       "      <td>0</td>\n",
       "      <td>2021-03-24</td>\n",
       "    </tr>\n",
       "    <tr>\n",
       "      <th>2</th>\n",
       "      <td>1854457</td>\n",
       "      <td>https://image.msscdn.net/images/goods_img/2021...</td>\n",
       "      <td>020006</td>\n",
       "      <td>020</td>\n",
       "      <td>0</td>\n",
       "      <td>2021-03-24</td>\n",
       "    </tr>\n",
       "    <tr>\n",
       "      <th>3</th>\n",
       "      <td>1854414</td>\n",
       "      <td>https://image.msscdn.net/images/goods_img/2021...</td>\n",
       "      <td>020006</td>\n",
       "      <td>020</td>\n",
       "      <td>0</td>\n",
       "      <td>2021-03-24</td>\n",
       "    </tr>\n",
       "    <tr>\n",
       "      <th>4</th>\n",
       "      <td>1854458</td>\n",
       "      <td>https://image.msscdn.net/images/goods_img/2021...</td>\n",
       "      <td>020006</td>\n",
       "      <td>020</td>\n",
       "      <td>0</td>\n",
       "      <td>2021-03-24</td>\n",
       "    </tr>\n",
       "  </tbody>\n",
       "</table>\n",
       "</div>"
      ],
      "text/plain": [
       "   item_id                                            img_url sub_category  \\\n",
       "0  1854456  https://image.msscdn.net/images/goods_img/2021...       020006   \n",
       "1  1854413  https://image.msscdn.net/images/goods_img/2021...       020006   \n",
       "2  1854457  https://image.msscdn.net/images/goods_img/2021...       020006   \n",
       "3  1854414  https://image.msscdn.net/images/goods_img/2021...       020006   \n",
       "4  1854458  https://image.msscdn.net/images/goods_img/2021...       020006   \n",
       "\n",
       "  category  page_num        date  \n",
       "0      020         0  2021-03-24  \n",
       "1      020         0  2021-03-24  \n",
       "2      020         0  2021-03-24  \n",
       "3      020         0  2021-03-24  \n",
       "4      020         0  2021-03-24  "
      ]
     },
     "execution_count": 4,
     "metadata": {},
     "output_type": "execute_result"
    }
   ],
   "source": [
    "#category, sub_category 맨 앞 0을 인식 못해 str으로 바꿔줌.\n",
    "data = pd.read_csv('mini_onepiece(020006)_210324.csv',index_col = 0,converters={'category':str,'sub_category':str})\n",
    "\n",
    "data.head()"
   ]
  },
  {
   "cell_type": "code",
   "execution_count": 5,
   "metadata": {},
   "outputs": [
    {
     "data": {
      "text/plain": [
       "array([1854456, 1854413, 1854457, ..., 1559214, 1792848, 1801848])"
      ]
     },
     "execution_count": 5,
     "metadata": {},
     "output_type": "execute_result"
    }
   ],
   "source": [
    "data['item_id'].unique()"
   ]
  },
  {
   "cell_type": "code",
   "execution_count": 6,
   "metadata": {},
   "outputs": [],
   "source": [
    "url = 'https://store.musinsa.com/app/goods/' + '1854456'\n",
    "\n",
    "req = requests.get(url)\n",
    "raw = req.text\n",
    "\n",
    "html = BeautifulSoup(raw, 'html.parser')"
   ]
  },
  {
   "cell_type": "code",
   "execution_count": 81,
   "metadata": {},
   "outputs": [],
   "source": [
    "title = html.select('span.product_title')[0].get_text() #'\\n에어리핏 슬릿 원피스_퍼플헤더_(AKPOP-15LVD)\\n'\n",
    "season = html.select('#product_order_info > div.explan_product.product_info_section > ul > li:nth-child(2) > p.product_article_contents > strong')[0].get_text()\n",
    "gender = html.select('span.txt_gender')[0].get_text() #'\\n여\\n'\n",
    "brand_product_num=html.select('p.product_article_contents')[0].get_text() #brand/품번\n",
    "tag = html.select('a.listItem') #상품 특성 키워드로#트레이닝복\n",
    "price =html.select('span.product_article_price')[0].get_text()#\\n35,000원\\n \n",
    "#mem_price = html.select('div.member_price')\n",
    "likes = html.select('a.goods_like_1854456')[0].get_text() #'좋아요0'"
   ]
  },
  {
   "cell_type": "code",
   "execution_count": null,
   "metadata": {},
   "outputs": [],
   "source": [
    "import re\n",
    "\n",
    "string = \"Hey! What's up?\"\n",
    "string = re.sub(\"\\!|\\'|\\?\",\"\",string)\n",
    "print(string) "
   ]
  },
  {
   "cell_type": "code",
   "execution_count": 84,
   "metadata": {},
   "outputs": [
    {
     "data": {
      "text/plain": [
       "'2021S/S'"
      ]
     },
     "execution_count": 84,
     "metadata": {},
     "output_type": "execute_result"
    }
   ],
   "source": [
    "re.sub('\\ |\\\\n',\"\",season)"
   ]
  },
  {
   "cell_type": "code",
   "execution_count": 107,
   "metadata": {},
   "outputs": [],
   "source": [
    "title = re.sub('\\\\n',\"\",title)\n",
    "season = re.sub('\\ |\\\\n',\"\",season)\n",
    "gender = re.sub('\\\\n',\"\",gender)\n",
    "brand = brand_product_num.split()[0]\n",
    "product_num = brand_product_num.split()[2]\n",
    "tag_l = []\n",
    "for i in tag:\n",
    "    tag_l.append(re.sub('\\#','',i.get_text()))\n",
    "tag = tag_l\n",
    "price = re.sub('\\ |\\\\n|\\,|\\원','',price)\n",
    "likes = likes[3:]"
   ]
  },
  {
   "cell_type": "code",
   "execution_count": 10,
   "metadata": {},
   "outputs": [],
   "source": [
    "title_c=[]\n",
    "season_c=[]\n",
    "gender_c=[]\n",
    "brand_c=[]\n",
    "product_num_c = []\n",
    "tag_c = []\n",
    "price_c = []\n",
    "likes_c =[]"
   ]
  },
  {
   "cell_type": "code",
   "execution_count": null,
   "metadata": {},
   "outputs": [],
   "source": [
    "start = time.time()  # 시작 시간 저장\n",
    "\n",
    "for i in range(len(data)):\n",
    "    item_id = data['item_id'][i]\n",
    "    url = 'https://store.musinsa.com/app/goods/' + str(item_id)\n",
    "    \n",
    "    req = requests.get(url)\n",
    "    html = BeautifulSoup(raw, 'html.parser')\n",
    "    \n",
    "    title = html.select('span.product_title')[0].get_text() #'\\n에어리핏 슬릿 원피스_퍼플헤더_(AKPOP-15LVD)\\n'\n",
    "    season = html.select('#product_order_info > div.explan_product.product_info_section > ul > li:nth-child(2) > p.product_article_contents > strong')[0].get_text()\n",
    "    gender = html.select('span.txt_gender')[0].get_text() #'\\n여\\n'\n",
    "    brand_product_num=html.select('p.product_article_contents')[0].get_text() #brand/품번\n",
    "    tag = html.select('a.listItem') #상품 특성 키워드로#트레이닝복\n",
    "    price =html.select('span.product_article_price')[0].get_text()#\\n35,000원\\n \n",
    "    #mem_price = html.select('div.member_price')\n",
    "    likes = html.select('a.goods_like_1854456')[0].get_text() #'좋아요0'\n",
    "\n",
    "    title_c.append(re.sub('\\\\n',\"\",title))\n",
    "    season_c.append(re.sub('\\ |\\\\n',\"\",season))\n",
    "    gender_c.append(re.sub('\\\\n',\"\",gender))\n",
    "    brand_c.append(brand_product_num.split()[0])\n",
    "    product_num_c.append(brand_product_num.split()[2])\n",
    "    tag_l = []\n",
    "    for i in tag:\n",
    "        tag_l.append(re.sub('\\#','',i.get_text()))\n",
    "    tag_c.append(tag_l)\n",
    "    price_c.append(re.sub('\\ |\\\\n|\\,|\\원','',price))\n",
    "    likes_c.append(likes[3:])\n",
    "print(\"time :\", time.time() - start)  # 현재시각 - 시작시간 = 실행 시간"
   ]
  },
  {
   "cell_type": "code",
   "execution_count": null,
   "metadata": {},
   "outputs": [],
   "source": [
    "df = pd.DataFrame()\n",
    "item_id = data['item_id']\n",
    "title = title_c\n",
    "season = season_c\n",
    "gender = gender_c\n",
    "brand = brand_c\n",
    "product = product_num_c =\n",
    "tag= tag_c\n",
    "price =price_c\n",
    "liks = likes_c\n",
    "date = date.today().isoformat() #'yyyy-mm-dd'"
   ]
  },
  {
   "cell_type": "code",
   "execution_count": null,
   "metadata": {},
   "outputs": [],
   "source": [
    "df.to_csv('mini_onepiece_detail(020006)_210324.csv')"
   ]
  },
  {
   "cell_type": "code",
   "execution_count": null,
   "metadata": {},
   "outputs": [],
   "source": []
  }
 ],
 "metadata": {
  "kernelspec": {
   "display_name": "Python 3",
   "language": "python",
   "name": "python3"
  },
  "language_info": {
   "codemirror_mode": {
    "name": "ipython",
    "version": 3
   },
   "file_extension": ".py",
   "mimetype": "text/x-python",
   "name": "python",
   "nbconvert_exporter": "python",
   "pygments_lexer": "ipython3",
   "version": "3.8.3"
  }
 },
 "nbformat": 4,
 "nbformat_minor": 4
}
