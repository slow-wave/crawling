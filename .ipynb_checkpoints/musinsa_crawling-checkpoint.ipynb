{
 "cells": [
  {
   "cell_type": "markdown",
   "metadata": {},
   "source": [
    "## category code 정리  \n",
    "원피스   \n",
    "- 미니 원피스 : 020006"
   ]
  },
  {
   "cell_type": "markdown",
   "metadata": {},
   "source": [
    "### column\n",
    "- category\n",
    "- sub_category\n",
    "- item_id\n",
    "- img_url"
   ]
  },
  {
   "cell_type": "code",
   "execution_count": 77,
   "metadata": {},
   "outputs": [],
   "source": [
    "import requests\n",
    "from bs4 import BeautifulSoup\n",
    "from datetime import date, timedelta\n",
    "import pandas as pd"
   ]
  },
  {
   "cell_type": "code",
   "execution_count": 61,
   "metadata": {},
   "outputs": [],
   "source": [
    "#원피스 > 미니 원피스 크롤링\n",
    "sub_category = '020006'\n",
    "page_num = '1'\n",
    "sort = 'pop&sub_sort'\n",
    "url = 'https://search.musinsa.com/category/'+category +'?device=&d_cat_cd=020006&brand=&rate=&page_kind=search&list_kind=small&sort=' +sort+'=&page='+page_num+'&display_cnt=90&sale_goods=&ex_soldout=&color=&price1=&price2=&exclusive_yn=&size=&tags=&sale_campaign_yn=&timesale_yn=&q='\n",
    "\n",
    "req = requests.get(url)\n",
    "html = BeautifulSoup(raw, 'html.parser')"
   ]
  },
  {
   "cell_type": "code",
   "execution_count": 62,
   "metadata": {},
   "outputs": [],
   "source": [
    "total_page_num= html.select('span.totalPagingNum')[0].get_text()#24"
   ]
  },
  {
   "cell_type": "code",
   "execution_count": 92,
   "metadata": {},
   "outputs": [],
   "source": [
    "#item-id, img_url, category, sub_category, page_num\n",
    "item_id_c = []\n",
    "img_url_c = []\n",
    "category_c = '020'\n",
    "sub_category_c = sub_category\n",
    "page_num_c = []"
   ]
  },
  {
   "cell_type": "code",
   "execution_count": 93,
   "metadata": {},
   "outputs": [],
   "source": [
    "for i in range(int(total_page_num)):\n",
    "    sub_category = '020006'\n",
    "    page_num = str(i)\n",
    "    sort = 'pop&sub_sort'\n",
    "    url = 'https://search.musinsa.com/category/'+category +'?device=&d_cat_cd=020006&brand=&rate=&page_kind=search&list_kind=small&sort=' +sort+'=&page='+page_num+'&display_cnt=90&sale_goods=&ex_soldout=&color=&price1=&price2=&exclusive_yn=&size=&tags=&sale_campaign_yn=&timesale_yn=&q='\n",
    "    \n",
    "    req = requests.get(url)\n",
    "    html = BeautifulSoup(raw, 'html.parser')\n",
    "    \n",
    "    for item in items:\n",
    "        item_id_c.append(item['data-no'])\n",
    "        img_url_c.append(items[0].img['data-original'])\n",
    "        page_num_c.append(i)\n",
    "\n"
   ]
  },
  {
   "cell_type": "code",
   "execution_count": 94,
   "metadata": {},
   "outputs": [],
   "source": [
    "#html.select('label.is_goods')[0].get_text() #' 상품 수 : 2,104개'\n",
    "#total_page_num= html.select('span.totalPagingNum')[0].get_text()#24\n",
    "#html.select('span.currentPagingNum')[0].get_text()#1\n",
    "#items = html.select('li.li_box') \n",
    "#print(len(items)) #90\n",
    "#items[0]['data-no'] #1854456\n",
    "#items[0].img['data-original']  #'https://image.msscdn.net/images/goods_img/20210319/1854456/1854456_1_125.jpg'"
   ]
  },
  {
   "cell_type": "code",
   "execution_count": 95,
   "metadata": {},
   "outputs": [
    {
     "name": "stdout",
     "output_type": "stream",
     "text": [
      "2160 2160 2160\n"
     ]
    }
   ],
   "source": [
    "print(len(item_id_c), len(img_url_c),len(page_num_c))"
   ]
  },
  {
   "cell_type": "code",
   "execution_count": 96,
   "metadata": {},
   "outputs": [],
   "source": [
    "df = pd.DataFrame()\n",
    "df['category'] = '020'\n",
    "df['item_id'] = item_id_c\n",
    "df['img_url'] = img_url_c\n",
    "df['sub_category'] = '020006'\n",
    "df['page_num']=page_num_c\n",
    "df['date'] = date.today().isoformat() #'yyyy-mm-dd'"
   ]
  },
  {
   "cell_type": "code",
   "execution_count": 102,
   "metadata": {},
   "outputs": [
    {
     "data": {
      "text/html": [
       "<div>\n",
       "<style scoped>\n",
       "    .dataframe tbody tr th:only-of-type {\n",
       "        vertical-align: middle;\n",
       "    }\n",
       "\n",
       "    .dataframe tbody tr th {\n",
       "        vertical-align: top;\n",
       "    }\n",
       "\n",
       "    .dataframe thead th {\n",
       "        text-align: right;\n",
       "    }\n",
       "</style>\n",
       "<table border=\"1\" class=\"dataframe\">\n",
       "  <thead>\n",
       "    <tr style=\"text-align: right;\">\n",
       "      <th></th>\n",
       "      <th>category</th>\n",
       "      <th>item_id</th>\n",
       "      <th>img_url</th>\n",
       "      <th>sub_category</th>\n",
       "      <th>page_num</th>\n",
       "      <th>date</th>\n",
       "    </tr>\n",
       "  </thead>\n",
       "  <tbody>\n",
       "    <tr>\n",
       "      <th>0</th>\n",
       "      <td>020</td>\n",
       "      <td>1854456</td>\n",
       "      <td>https://image.msscdn.net/images/goods_img/2021...</td>\n",
       "      <td>020006</td>\n",
       "      <td>0</td>\n",
       "      <td>2021-03-24</td>\n",
       "    </tr>\n",
       "    <tr>\n",
       "      <th>1</th>\n",
       "      <td>020</td>\n",
       "      <td>1854413</td>\n",
       "      <td>https://image.msscdn.net/images/goods_img/2021...</td>\n",
       "      <td>020006</td>\n",
       "      <td>0</td>\n",
       "      <td>2021-03-24</td>\n",
       "    </tr>\n",
       "    <tr>\n",
       "      <th>2</th>\n",
       "      <td>020</td>\n",
       "      <td>1854457</td>\n",
       "      <td>https://image.msscdn.net/images/goods_img/2021...</td>\n",
       "      <td>020006</td>\n",
       "      <td>0</td>\n",
       "      <td>2021-03-24</td>\n",
       "    </tr>\n",
       "    <tr>\n",
       "      <th>3</th>\n",
       "      <td>020</td>\n",
       "      <td>1854414</td>\n",
       "      <td>https://image.msscdn.net/images/goods_img/2021...</td>\n",
       "      <td>020006</td>\n",
       "      <td>0</td>\n",
       "      <td>2021-03-24</td>\n",
       "    </tr>\n",
       "    <tr>\n",
       "      <th>4</th>\n",
       "      <td>020</td>\n",
       "      <td>1854458</td>\n",
       "      <td>https://image.msscdn.net/images/goods_img/2021...</td>\n",
       "      <td>020006</td>\n",
       "      <td>0</td>\n",
       "      <td>2021-03-24</td>\n",
       "    </tr>\n",
       "  </tbody>\n",
       "</table>\n",
       "</div>"
      ],
      "text/plain": [
       "  category  item_id                                            img_url  \\\n",
       "0      020  1854456  https://image.msscdn.net/images/goods_img/2021...   \n",
       "1      020  1854413  https://image.msscdn.net/images/goods_img/2021...   \n",
       "2      020  1854457  https://image.msscdn.net/images/goods_img/2021...   \n",
       "3      020  1854414  https://image.msscdn.net/images/goods_img/2021...   \n",
       "4      020  1854458  https://image.msscdn.net/images/goods_img/2021...   \n",
       "\n",
       "  sub_category  page_num        date  \n",
       "0       020006         0  2021-03-24  \n",
       "1       020006         0  2021-03-24  \n",
       "2       020006         0  2021-03-24  \n",
       "3       020006         0  2021-03-24  \n",
       "4       020006         0  2021-03-24  "
      ]
     },
     "execution_count": 102,
     "metadata": {},
     "output_type": "execute_result"
    }
   ],
   "source": [
    "df.head()"
   ]
  },
  {
   "cell_type": "code",
   "execution_count": 87,
   "metadata": {},
   "outputs": [
    {
     "data": {
      "text/plain": [
       "['020']"
      ]
     },
     "execution_count": 87,
     "metadata": {},
     "output_type": "execute_result"
    }
   ],
   "source": [
    "category_c"
   ]
  },
  {
   "cell_type": "code",
   "execution_count": 103,
   "metadata": {},
   "outputs": [],
   "source": [
    "df.to_csv('mini_onepiece(020006)_210324.csv')"
   ]
  },
  {
   "cell_type": "code",
   "execution_count": null,
   "metadata": {},
   "outputs": [],
   "source": []
  }
 ],
 "metadata": {
  "kernelspec": {
   "display_name": "Python 3",
   "language": "python",
   "name": "python3"
  },
  "language_info": {
   "codemirror_mode": {
    "name": "ipython",
    "version": 3
   },
   "file_extension": ".py",
   "mimetype": "text/x-python",
   "name": "python",
   "nbconvert_exporter": "python",
   "pygments_lexer": "ipython3",
   "version": "3.8.3"
  }
 },
 "nbformat": 4,
 "nbformat_minor": 4
}
