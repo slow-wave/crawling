{
 "cells": [
  {
   "cell_type": "markdown",
   "metadata": {},
   "source": [
    "# musinsa item_id 크롤링"
   ]
  },
  {
   "cell_type": "markdown",
   "metadata": {},
   "source": [
    "### category code 정리  \n",
    "원피스   \n",
    "- 미니 원피스 : 020006\n",
    "\n",
    "### column\n",
    "- category\n",
    "- sub_category\n",
    "- item_id\n",
    "- img_url"
   ]
  },
  {
   "cell_type": "code",
   "execution_count": 180,
   "metadata": {},
   "outputs": [],
   "source": [
    "import requests\n",
    "from bs4 import BeautifulSoup\n",
    "from datetime import date, timedelta\n",
    "import pandas as pd\n",
    "import re"
   ]
  },
  {
   "cell_type": "markdown",
   "metadata": {},
   "source": [
    "### 1)하위 카테고리 클릭시 나오는 프론트에있는 총 아이템 수, 총 페이지 수 먼저 크롤링"
   ]
  },
  {
   "cell_type": "code",
   "execution_count": 109,
   "metadata": {},
   "outputs": [],
   "source": [
    "def category_info(sub_category):\n",
    "    page_num = '1' #첫 페이지\n",
    "    sort = 'pop&sub_sort'\n",
    "\n",
    "    url = 'https://search.musinsa.com/category/'+ sub_category + \\\n",
    "    '?device=&d_cat_cd=020006&brand=&rate=&page_kind=search&list_kind=small&sort=' + \\\n",
    "    sort+'=&page='+page_num+'&display_cnt=90&sale_goods=&ex_soldout=&color=&price1=&price2=&exclusive_yn=&size=&tags=&sale_campaign_yn=&timesale_yn=&q='\n",
    "\n",
    "    req = requests.get(url)\n",
    "    raw = req.text\n",
    "\n",
    "    html = BeautifulSoup(raw, 'html.parser')\n",
    "\n",
    "    #해당 카테고리 옷의 전체 페이지 수 긁어오기\n",
    "    total_item = html.select_one('#goods_list > div.boxed-list-wrapper > div.thumbType_box.box > span.counter.box_num_goods > label').get_text()\n",
    "    total_page_n= html.select_one('span.totalPagingNum').get_text()\n",
    "\n",
    "    total_item = re.sub(\"[^0-9]\",'',total_item) #숫자만 남기고 제거\n",
    "    print(sub_category, \"카테고리\",\"\\n총 상품 수: \",total_item,\"\\n총 페이지 수: \",total_page_n)\n",
    "    return total_item, total_page_n"
   ]
  },
  {
   "cell_type": "code",
   "execution_count": 110,
   "metadata": {},
   "outputs": [
    {
     "name": "stdout",
     "output_type": "stream",
     "text": [
      "020006 카테고리 \n",
      "총 상품 수:  2144 \n",
      "총 페이지 수:  24\n"
     ]
    },
    {
     "data": {
      "text/plain": [
       "('2144', '24')"
      ]
     },
     "execution_count": 110,
     "metadata": {},
     "output_type": "execute_result"
    }
   ],
   "source": [
    "sub_category = '020006' #하위카테고리 미니 원피스\n",
    "category_info(sub_category)"
   ]
  },
  {
   "cell_type": "markdown",
   "metadata": {},
   "source": [
    "### 2) page 수 만큼 반복하면서 하위 카테고리에 있는 모든 item의 정보 긁어온다.\n",
    "- item_id\n",
    "- img_url\n",
    "- likes"
   ]
  },
  {
   "cell_type": "code",
   "execution_count": 159,
   "metadata": {},
   "outputs": [],
   "source": [
    "#각 정보 담을 list 생성\n",
    "item_id_c = []\n",
    "img_url_c = []\n",
    "page_num_c = []\n",
    "like_c = []\n",
    "\n",
    "\n",
    "for i in range(total_page_n):\n",
    "    page_num = str(i)\n",
    "    url = 'https://search.musinsa.com/category/'+category+ \\\n",
    "    '?device=&d_cat_cd='+'020006'+'&brand=&rate=&page_kind=search&list_kind=small&sort=pop&sub_sort=& \\\n",
    "    page='+page_num+'&display_cnt=90&sale_goods=&ex_soldout=&color=&price1=&price2=&exclusive_yn=&size=&tags=&sale_campaign_yn=&timesale_yn=&q='\n",
    "\n",
    "    req = requests.get(url)\n",
    "    raw = req.text\n",
    "\n",
    "    html = BeautifulSoup(raw, 'html.parser')\n",
    "    items = html.select('ul#searchList > li ')\n",
    "\n",
    "    for item in items:\n",
    "        item_id_c.append(item['data-no']) #item별 아이디를 가져옴\n",
    "        img_url_c.append(item.img['data-original']) #item별 img url을 가져옴.\n",
    "        #좋아요 수 숫자만 가져옴. 없으면 ''\n",
    "        like_c.append(item.select_one(\"p.txt_cnt_like\").get_text())\n",
    "        page_num_c.append(i) #몇 페이지에서 가져온건지 기록"
   ]
  },
  {
   "cell_type": "code",
   "execution_count": 161,
   "metadata": {},
   "outputs": [
    {
     "name": "stdout",
     "output_type": "stream",
     "text": [
      "2160 2160 2160 2160\n"
     ]
    }
   ],
   "source": [
    "#몇 개 들어왔나 확인.\n",
    "print(len(item_id_c), len(img_url_c),len(page_num_c),len(like_c))"
   ]
  },
  {
   "cell_type": "code",
   "execution_count": 154,
   "metadata": {},
   "outputs": [],
   "source": [
    "#데이터프레임으로 만들기\n",
    "df = pd.DataFrame()\n",
    "df['item_id'] = item_id_c\n",
    "df['img_url'] = img_url_c\n",
    "df['sub_category'] = '020006'\n",
    "df['category'] = '020'\n",
    "df['page_num']=page_num_c\n",
    "#df['like'] = like_c\n",
    "df['date'] = date.today().isoformat() #'yyyy-mm-dd'"
   ]
  },
  {
   "cell_type": "code",
   "execution_count": 155,
   "metadata": {},
   "outputs": [],
   "source": [
    "df.category = df.category.astype('str') #앞자리가 0이면 사라져서 다시 str으로 변환\n",
    "df.sub_category = df.sub_category.astype('str')"
   ]
  },
  {
   "cell_type": "code",
   "execution_count": 167,
   "metadata": {},
   "outputs": [
    {
     "data": {
      "text/html": [
       "<div>\n",
       "<style scoped>\n",
       "    .dataframe tbody tr th:only-of-type {\n",
       "        vertical-align: middle;\n",
       "    }\n",
       "\n",
       "    .dataframe tbody tr th {\n",
       "        vertical-align: top;\n",
       "    }\n",
       "\n",
       "    .dataframe thead th {\n",
       "        text-align: right;\n",
       "    }\n",
       "</style>\n",
       "<table border=\"1\" class=\"dataframe\">\n",
       "  <thead>\n",
       "    <tr style=\"text-align: right;\">\n",
       "      <th></th>\n",
       "      <th>item_id</th>\n",
       "      <th>img_url</th>\n",
       "      <th>sub_category</th>\n",
       "      <th>category</th>\n",
       "      <th>page_num</th>\n",
       "      <th>date</th>\n",
       "    </tr>\n",
       "  </thead>\n",
       "  <tbody>\n",
       "    <tr>\n",
       "      <th>0</th>\n",
       "      <td>1861643</td>\n",
       "      <td>https://image.msscdn.net/images/goods_img/2021...</td>\n",
       "      <td>020006</td>\n",
       "      <td>020</td>\n",
       "      <td>0</td>\n",
       "      <td>2021-03-26</td>\n",
       "    </tr>\n",
       "    <tr>\n",
       "      <th>1</th>\n",
       "      <td>1861302</td>\n",
       "      <td>https://image.msscdn.net/images/goods_img/2021...</td>\n",
       "      <td>020006</td>\n",
       "      <td>020</td>\n",
       "      <td>0</td>\n",
       "      <td>2021-03-26</td>\n",
       "    </tr>\n",
       "    <tr>\n",
       "      <th>2</th>\n",
       "      <td>1859582</td>\n",
       "      <td>https://image.msscdn.net/images/goods_img/2021...</td>\n",
       "      <td>020006</td>\n",
       "      <td>020</td>\n",
       "      <td>0</td>\n",
       "      <td>2021-03-26</td>\n",
       "    </tr>\n",
       "    <tr>\n",
       "      <th>3</th>\n",
       "      <td>1859580</td>\n",
       "      <td>https://image.msscdn.net/images/goods_img/2021...</td>\n",
       "      <td>020006</td>\n",
       "      <td>020</td>\n",
       "      <td>0</td>\n",
       "      <td>2021-03-26</td>\n",
       "    </tr>\n",
       "    <tr>\n",
       "      <th>4</th>\n",
       "      <td>1861312</td>\n",
       "      <td>https://image.msscdn.net/images/goods_img/2021...</td>\n",
       "      <td>020006</td>\n",
       "      <td>020</td>\n",
       "      <td>0</td>\n",
       "      <td>2021-03-26</td>\n",
       "    </tr>\n",
       "  </tbody>\n",
       "</table>\n",
       "</div>"
      ],
      "text/plain": [
       "   item_id                                            img_url sub_category  \\\n",
       "0  1861643  https://image.msscdn.net/images/goods_img/2021...       020006   \n",
       "1  1861302  https://image.msscdn.net/images/goods_img/2021...       020006   \n",
       "2  1859582  https://image.msscdn.net/images/goods_img/2021...       020006   \n",
       "3  1859580  https://image.msscdn.net/images/goods_img/2021...       020006   \n",
       "4  1861312  https://image.msscdn.net/images/goods_img/2021...       020006   \n",
       "\n",
       "  category  page_num        date  \n",
       "0      020         0  2021-03-26  \n",
       "1      020         0  2021-03-26  \n",
       "2      020         0  2021-03-26  \n",
       "3      020         0  2021-03-26  \n",
       "4      020         0  2021-03-26  "
      ]
     },
     "execution_count": 167,
     "metadata": {},
     "output_type": "execute_result"
    }
   ],
   "source": [
    "df.head()"
   ]
  },
  {
   "cell_type": "code",
   "execution_count": 187,
   "metadata": {},
   "outputs": [
    {
     "name": "stdout",
     "output_type": "stream",
     "text": [
      "mini_onepiece(020006)_20210326.csv\n"
     ]
    }
   ],
   "source": [
    "sub_category ='020006'\n",
    "d= date.today().strftime('%Y%m%d')\n",
    "f_name = 'mini_onepiece({})_{}.csv'.format(sub_category, d)\n",
    "print(f_name)"
   ]
  },
  {
   "cell_type": "code",
   "execution_count": 188,
   "metadata": {},
   "outputs": [],
   "source": [
    "df.to_csv(f_name)"
   ]
  }
 ],
 "metadata": {
  "kernelspec": {
   "display_name": "Python 3",
   "language": "python",
   "name": "python3"
  },
  "language_info": {
   "codemirror_mode": {
    "name": "ipython",
    "version": 3
   },
   "file_extension": ".py",
   "mimetype": "text/x-python",
   "name": "python",
   "nbconvert_exporter": "python",
   "pygments_lexer": "ipython3",
   "version": "3.8.3"
  }
 },
 "nbformat": 4,
 "nbformat_minor": 4
}
